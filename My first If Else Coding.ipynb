{
 "cells": [
  {
   "cell_type": "code",
   "execution_count": null,
   "id": "c52b3442",
   "metadata": {},
   "outputs": [],
   "source": [
    "#If Elif Else Exercise\n",
    "\n",
    "Name = input(\"Tell us your name: \") \n",
    "Age = int(input(\"How old are you? \"))\n",
    "\n",
    "if Name == \"Glory\" and Age >= 9:\n",
    "    print(f\" This class is for you. So, you are welcome {Name}! \")\n",
    "else:\n",
    "    print(f\" This class is not for you. Good bye {Name}.\")\n"
   ]
  },
  {
   "cell_type": "code",
   "execution_count": null,
   "id": "94f36c75",
   "metadata": {},
   "outputs": [],
   "source": [
    "#If Elif Else Exercise\n",
    "\n",
    "Name = input(\"Tell us your name: \") \n",
    "Age = int(input(\"How old are you? \"))\n",
    "\n",
    "if Name == \"Glory\" or Age >= 9:\n",
    "    print(f\" This class is for you. So, you are welcome {Name}! \")\n",
    "else:\n",
    "    print(f\" This class is not for you. Good bye {Name}.\")"
   ]
  },
  {
   "cell_type": "code",
   "execution_count": null,
   "id": "117f3dd7",
   "metadata": {},
   "outputs": [],
   "source": [
    "#If Elif Else Exercise\n",
    "\n",
    "Name = input(\"Tell us your name: \") \n",
    "Age = int(input(\"How old are you? \"))\n",
    "\n",
    "if Name == \"Glory\" and Age != 9:\n",
    "    print(f\" This class is for you. So, you are welcome {Name}! \")\n",
    "else:\n",
    "    print(f\" This class is not for you. Good bye {Name}.\")"
   ]
  },
  {
   "cell_type": "code",
   "execution_count": null,
   "id": "9ab1fb97",
   "metadata": {},
   "outputs": [],
   "source": [
    "#elif Exercise\n",
    "\n",
    "Name = input(\"Tell us your name: \") \n",
    "Age = int(input(\"How old are you? \"))\n",
    "\n",
    "if Name == \"Glory\" :\n",
    "    print(f\" This class is for you. So, you are welcome {Name}! \")\n",
    "elif Name == \"Praise\" :\n",
    "    print(f\" This class is for you. So, you are welcome {Name}! \")\n",
    "elif Name == \"Grace\" :\n",
    "    print(f\" This class is for you. So, you are welcome {Name}! \")\n",
    "    \n",
    "else:\n",
    "    print(f\" This class is not for you. Good bye {Name}.\")"
   ]
  },
  {
   "cell_type": "code",
   "execution_count": null,
   "id": "7a4229e6",
   "metadata": {},
   "outputs": [],
   "source": []
  },
  {
   "cell_type": "code",
   "execution_count": null,
   "id": "6d47a697",
   "metadata": {},
   "outputs": [],
   "source": [
    "# Nested If\n",
    "# You can have if statements inside if statements, this is called nested if statements.\n",
    "\n",
    "x = 30\n",
    "\n",
    "if x > 10:\n",
    "  print(\"Above ten,\")\n",
    "  if x > 20:\n",
    "    print(\"and also above 20!\")\n",
    "  else:\n",
    "    print(\"but not above 20.\")"
   ]
  },
  {
   "cell_type": "code",
   "execution_count": null,
   "id": "d1a8b4b1",
   "metadata": {},
   "outputs": [],
   "source": [
    "my_list = [10, \"Grace\", 20.5, \"Glory\", 30, 11.0]\n",
    "my_list"
   ]
  },
  {
   "cell_type": "code",
   "execution_count": null,
   "id": "105dfb27",
   "metadata": {},
   "outputs": [],
   "source": [
    "my_list\n",
    "for item in my_list:\n",
    "    if type(item) == str:\n",
    "        print(item)\n",
    "    "
   ]
  },
  {
   "cell_type": "code",
   "execution_count": null,
   "id": "78ff9982",
   "metadata": {},
   "outputs": [],
   "source": [
    "name = input(\"What is your name: \")\n",
    "f_test = int(input(\"What is the score for your first test: \"))\n",
    "s_test = int(input(\"What is the score for your second test: \"))\n",
    "attd = int(input(\"What is the score for your attendance: \"))\n",
    "exam = int(input(\"What is the score for your exam: \"))\n",
    "\n",
    "print(\"-------------------------------------------\")\n",
    "\n",
    "total_score = f_test + s_test + attd + exam\n",
    "\n",
    "if total_score >= 70:\n",
    "    grade = \"A\"\n",
    "elif total_score >= 60:\n",
    "    grade = \"B\"\n",
    "elif total_score >= 50:\n",
    "    grade = \"C\"\n",
    "elif total_score >= 40:\n",
    "    grade = \"D\"\n",
    "else:\n",
    "    grade = \"F\"\n",
    "\n",
    "print(f\"Hello {name}, Your total score is {total_score} and your grade is {grade}\")"
   ]
  }
 ],
 "metadata": {
  "kernelspec": {
   "display_name": "Python 3 (ipykernel)",
   "language": "python",
   "name": "python3"
  },
  "language_info": {
   "codemirror_mode": {
    "name": "ipython",
    "version": 3
   },
   "file_extension": ".py",
   "mimetype": "text/x-python",
   "name": "python",
   "nbconvert_exporter": "python",
   "pygments_lexer": "ipython3",
   "version": "3.9.12"
  }
 },
 "nbformat": 4,
 "nbformat_minor": 5
}
